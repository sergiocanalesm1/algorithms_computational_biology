{
 "cells": [
  {
   "cell_type": "code",
   "execution_count": 115,
   "metadata": {},
   "outputs": [],
   "source": [
    "import numpy as np \n",
    "import matplotlib.pyplot as plt"
   ]
  },
  {
   "cell_type": "code",
   "execution_count": 116,
   "metadata": {},
   "outputs": [],
   "source": [
    "test1 = \"TAGCTAGTAGAGTTAG\""
   ]
  },
  {
   "cell_type": "code",
   "execution_count": 117,
   "metadata": {},
   "outputs": [],
   "source": [
    "def create_KmersTable(string):\n",
    "    kmers = dict()\n",
    "    for i in range(len(string)-2):\n",
    "        if (string[i:i+3]) in kmers:\n",
    "            kmers[string[i:i+3]] += 1\n",
    "        else: \n",
    "            kmers[string[i:i+3]] = 1\n",
    "    return kmers\n",
    "def list_Kmers(kmerstable):\n",
    "    return list(kmerstable.keys())\n",
    "\n",
    "def kmer_abundace(kmer,kmerstable):\n",
    "    return (kmerstable.get(kmer))\n",
    "def kmers_distri(kmertable):\n",
    "    occurencies = list(kmertable.values())\n",
    "    distri=np.zeros(max(occurencies)+1)\n",
    "    for i in occurencies:\n",
    "        distri[i] += 1\n",
    "    return distri"
   ]
  },
  {
   "cell_type": "code",
   "execution_count": 118,
   "metadata": {},
   "outputs": [
    {
     "data": {
      "text/plain": [
       "{'TAG': 4,\n",
       " 'AGC': 1,\n",
       " 'GCT': 1,\n",
       " 'CTA': 1,\n",
       " 'AGT': 2,\n",
       " 'GTA': 1,\n",
       " 'AGA': 1,\n",
       " 'GAG': 1,\n",
       " 'GTT': 1,\n",
       " 'TTA': 1}"
      ]
     },
     "execution_count": 118,
     "metadata": {},
     "output_type": "execute_result"
    }
   ],
   "source": [
    "a = create_KmersTable(test1)\n",
    "a"
   ]
  },
  {
   "cell_type": "code",
   "execution_count": 119,
   "metadata": {},
   "outputs": [
    {
     "data": {
      "text/plain": [
       "array([0., 8., 1., 0., 1.])"
      ]
     },
     "execution_count": 119,
     "metadata": {},
     "output_type": "execute_result"
    }
   ],
   "source": [
    "kmers_distri(a)"
   ]
  },
  {
   "cell_type": "code",
   "execution_count": null,
   "metadata": {},
   "outputs": [],
   "source": []
  }
 ],
 "metadata": {
  "kernelspec": {
   "display_name": "Python 3",
   "language": "python",
   "name": "python3"
  },
  "language_info": {
   "codemirror_mode": {
    "name": "ipython",
    "version": 3
   },
   "file_extension": ".py",
   "mimetype": "text/x-python",
   "name": "python",
   "nbconvert_exporter": "python",
   "pygments_lexer": "ipython3",
   "version": "3.7.0"
  },
  "varInspector": {
   "cols": {
    "lenName": 16,
    "lenType": 16,
    "lenVar": 40
   },
   "kernels_config": {
    "python": {
     "delete_cmd_postfix": "",
     "delete_cmd_prefix": "del ",
     "library": "var_list.py",
     "varRefreshCmd": "print(var_dic_list())"
    },
    "r": {
     "delete_cmd_postfix": ") ",
     "delete_cmd_prefix": "rm(",
     "library": "var_list.r",
     "varRefreshCmd": "cat(var_dic_list()) "
    }
   },
   "types_to_exclude": [
    "module",
    "function",
    "builtin_function_or_method",
    "instance",
    "_Feature"
   ],
   "window_display": false
  }
 },
 "nbformat": 4,
 "nbformat_minor": 2
}
